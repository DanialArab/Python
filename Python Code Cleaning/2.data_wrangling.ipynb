{
 "cells": [
  {
   "cell_type": "markdown",
   "id": "3f33cffc",
   "metadata": {},
   "source": [
    "Data wrangling\n",
    "\n",
    "Given a CSV:\n",
    "\n",
    "id,name,age,salary\n",
    "1,Alice,25,100000\n",
    "2,Bob,,90000\n",
    "3,Charlie,30,NaN\n",
    "\n",
    "\n",
    "👉 Task:\n",
    "\n",
    "Read file with pandas.\n",
    "\n",
    "Fill missing ages with mean age.\n",
    "\n",
    "Drop rows with missing salary.\n",
    "\n",
    "Output JSON with schema:\n",
    "\n",
    "[{\"id\":1, \"name\":\"Alice\", \"age\":25, \"salary\":100000}, ...]"
   ]
  },
  {
   "cell_type": "code",
   "execution_count": 1,
   "id": "ec036d99",
   "metadata": {},
   "outputs": [],
   "source": [
    "import pandas as pd"
   ]
  },
  {
   "cell_type": "code",
   "execution_count": 2,
   "id": "4a3df76d",
   "metadata": {},
   "outputs": [
    {
     "data": {
      "text/html": [
       "<div>\n",
       "<style scoped>\n",
       "    .dataframe tbody tr th:only-of-type {\n",
       "        vertical-align: middle;\n",
       "    }\n",
       "\n",
       "    .dataframe tbody tr th {\n",
       "        vertical-align: top;\n",
       "    }\n",
       "\n",
       "    .dataframe thead th {\n",
       "        text-align: right;\n",
       "    }\n",
       "</style>\n",
       "<table border=\"1\" class=\"dataframe\">\n",
       "  <thead>\n",
       "    <tr style=\"text-align: right;\">\n",
       "      <th></th>\n",
       "      <th>id</th>\n",
       "      <th>name</th>\n",
       "      <th>age</th>\n",
       "      <th>salary</th>\n",
       "    </tr>\n",
       "  </thead>\n",
       "  <tbody>\n",
       "    <tr>\n",
       "      <th>0</th>\n",
       "      <td>1</td>\n",
       "      <td>Alice</td>\n",
       "      <td>25.0</td>\n",
       "      <td>100000.0</td>\n",
       "    </tr>\n",
       "    <tr>\n",
       "      <th>1</th>\n",
       "      <td>2</td>\n",
       "      <td>Bob</td>\n",
       "      <td>NaN</td>\n",
       "      <td>90000.0</td>\n",
       "    </tr>\n",
       "    <tr>\n",
       "      <th>2</th>\n",
       "      <td>3</td>\n",
       "      <td>Charlie</td>\n",
       "      <td>30.0</td>\n",
       "      <td>NaN</td>\n",
       "    </tr>\n",
       "  </tbody>\n",
       "</table>\n",
       "</div>"
      ],
      "text/plain": [
       "   id     name   age    salary\n",
       "0   1    Alice  25.0  100000.0\n",
       "1   2      Bob   NaN   90000.0\n",
       "2   3  Charlie  30.0       NaN"
      ]
     },
     "execution_count": 2,
     "metadata": {},
     "output_type": "execute_result"
    }
   ],
   "source": [
    "data = pd.read_csv('csv_sample.csv')\n",
    "data"
   ]
  },
  {
   "cell_type": "code",
   "execution_count": 3,
   "id": "ee5c3603",
   "metadata": {},
   "outputs": [
    {
     "data": {
      "text/plain": [
       "np.float64(27.5)"
      ]
     },
     "execution_count": 3,
     "metadata": {},
     "output_type": "execute_result"
    }
   ],
   "source": [
    "mean_age = data['age'].mean()\n",
    "mean_age\n"
   ]
  },
  {
   "cell_type": "code",
   "execution_count": 4,
   "id": "42ebffbc",
   "metadata": {},
   "outputs": [
    {
     "data": {
      "text/plain": [
       "0    25.0\n",
       "1    27.5\n",
       "2    30.0\n",
       "Name: age, dtype: float64"
      ]
     },
     "execution_count": 4,
     "metadata": {},
     "output_type": "execute_result"
    }
   ],
   "source": [
    "data['age'].fillna(mean_age)"
   ]
  },
  {
   "cell_type": "code",
   "execution_count": 14,
   "id": "7d0d3cb7",
   "metadata": {},
   "outputs": [
    {
     "data": {
      "text/html": [
       "<div>\n",
       "<style scoped>\n",
       "    .dataframe tbody tr th:only-of-type {\n",
       "        vertical-align: middle;\n",
       "    }\n",
       "\n",
       "    .dataframe tbody tr th {\n",
       "        vertical-align: top;\n",
       "    }\n",
       "\n",
       "    .dataframe thead th {\n",
       "        text-align: right;\n",
       "    }\n",
       "</style>\n",
       "<table border=\"1\" class=\"dataframe\">\n",
       "  <thead>\n",
       "    <tr style=\"text-align: right;\">\n",
       "      <th></th>\n",
       "      <th>id</th>\n",
       "      <th>name</th>\n",
       "      <th>age</th>\n",
       "      <th>salary</th>\n",
       "    </tr>\n",
       "  </thead>\n",
       "  <tbody>\n",
       "    <tr>\n",
       "      <th>0</th>\n",
       "      <td>1</td>\n",
       "      <td>Alice</td>\n",
       "      <td>25</td>\n",
       "      <td>100000.0</td>\n",
       "    </tr>\n",
       "    <tr>\n",
       "      <th>1</th>\n",
       "      <td>2</td>\n",
       "      <td>Bob</td>\n",
       "      <td>27</td>\n",
       "      <td>90000.0</td>\n",
       "    </tr>\n",
       "  </tbody>\n",
       "</table>\n",
       "</div>"
      ],
      "text/plain": [
       "   id   name  age    salary\n",
       "0   1  Alice   25  100000.0\n",
       "1   2    Bob   27   90000.0"
      ]
     },
     "execution_count": 14,
     "metadata": {},
     "output_type": "execute_result"
    }
   ],
   "source": [
    "data['age'] = data['age'].fillna(mean_age).astype(int)\n",
    "data"
   ]
  },
  {
   "cell_type": "code",
   "execution_count": 15,
   "id": "b4badbce",
   "metadata": {},
   "outputs": [],
   "source": [
    "data.dropna(subset='salary', inplace=True)"
   ]
  },
  {
   "cell_type": "code",
   "execution_count": 16,
   "id": "368c058a",
   "metadata": {},
   "outputs": [
    {
     "data": {
      "text/html": [
       "<div>\n",
       "<style scoped>\n",
       "    .dataframe tbody tr th:only-of-type {\n",
       "        vertical-align: middle;\n",
       "    }\n",
       "\n",
       "    .dataframe tbody tr th {\n",
       "        vertical-align: top;\n",
       "    }\n",
       "\n",
       "    .dataframe thead th {\n",
       "        text-align: right;\n",
       "    }\n",
       "</style>\n",
       "<table border=\"1\" class=\"dataframe\">\n",
       "  <thead>\n",
       "    <tr style=\"text-align: right;\">\n",
       "      <th></th>\n",
       "      <th>id</th>\n",
       "      <th>name</th>\n",
       "      <th>age</th>\n",
       "      <th>salary</th>\n",
       "    </tr>\n",
       "  </thead>\n",
       "  <tbody>\n",
       "    <tr>\n",
       "      <th>0</th>\n",
       "      <td>1</td>\n",
       "      <td>Alice</td>\n",
       "      <td>25</td>\n",
       "      <td>100000</td>\n",
       "    </tr>\n",
       "    <tr>\n",
       "      <th>1</th>\n",
       "      <td>2</td>\n",
       "      <td>Bob</td>\n",
       "      <td>27</td>\n",
       "      <td>90000</td>\n",
       "    </tr>\n",
       "  </tbody>\n",
       "</table>\n",
       "</div>"
      ],
      "text/plain": [
       "   id   name  age  salary\n",
       "0   1  Alice   25  100000\n",
       "1   2    Bob   27   90000"
      ]
     },
     "execution_count": 16,
     "metadata": {},
     "output_type": "execute_result"
    }
   ],
   "source": [
    "data['salary'] = data['salary'].astype(int)\n",
    "data"
   ]
  },
  {
   "cell_type": "markdown",
   "id": "39b4d192",
   "metadata": {},
   "source": [
    "[{\"id\":1, \"name\":\"Alice\", \"age\":25, \"salary\":100000}, ...]"
   ]
  },
  {
   "cell_type": "code",
   "execution_count": null,
   "id": "5307e481",
   "metadata": {},
   "outputs": [
    {
     "data": {
      "text/plain": [
       "[{'id': 1, 'name': 'Alice', 'age': 25, 'salary': 100000},\n",
       " {'id': 2, 'name': 'Bob', 'age': 27, 'salary': 90000}]"
      ]
     },
     "execution_count": 17,
     "metadata": {},
     "output_type": "execute_result"
    }
   ],
   "source": [
    "# Step 4: Convert to list of dicts\n",
    "records = data.to_dict(orient=\"records\")\n",
    "records"
   ]
  },
  {
   "cell_type": "markdown",
   "id": "196f0d2e",
   "metadata": {},
   "source": [
    "What orient does\n",
    "\n",
    "When you call DataFrame.to_dict() or DataFrame.to_json(), the orient argument controls how the DataFrame is converted into Python objects (dicts/lists) or JSON.\n",
    "\n",
    "2️⃣ orient=\"records\"\n",
    "\n",
    "Returns a list of dictionaries.\n",
    "\n",
    "Each row in the DataFrame becomes a dictionary (column names → values).\n",
    "\n",
    "Perfect when you want JSON-like output with rows as objects."
   ]
  },
  {
   "cell_type": "code",
   "execution_count": 21,
   "id": "4e4b0ac6",
   "metadata": {},
   "outputs": [],
   "source": [
    "import json \n",
    "\n",
    "with open ('output.json', mode='w') as f:\n",
    "    json.dump(records, f, indent=4)\n"
   ]
  },
  {
   "cell_type": "code",
   "execution_count": null,
   "id": "f8ab647b",
   "metadata": {},
   "outputs": [],
   "source": []
  },
  {
   "cell_type": "code",
   "execution_count": 18,
   "id": "56b6d406",
   "metadata": {},
   "outputs": [
    {
     "data": {
      "text/html": [
       "<div>\n",
       "<style scoped>\n",
       "    .dataframe tbody tr th:only-of-type {\n",
       "        vertical-align: middle;\n",
       "    }\n",
       "\n",
       "    .dataframe tbody tr th {\n",
       "        vertical-align: top;\n",
       "    }\n",
       "\n",
       "    .dataframe thead th {\n",
       "        text-align: right;\n",
       "    }\n",
       "</style>\n",
       "<table border=\"1\" class=\"dataframe\">\n",
       "  <thead>\n",
       "    <tr style=\"text-align: right;\">\n",
       "      <th></th>\n",
       "      <th>id</th>\n",
       "      <th>name</th>\n",
       "      <th>age</th>\n",
       "      <th>salary</th>\n",
       "    </tr>\n",
       "  </thead>\n",
       "  <tbody>\n",
       "    <tr>\n",
       "      <th>0</th>\n",
       "      <td>1</td>\n",
       "      <td>Alice</td>\n",
       "      <td>25</td>\n",
       "      <td>100000.0</td>\n",
       "    </tr>\n",
       "    <tr>\n",
       "      <th>1</th>\n",
       "      <td>2</td>\n",
       "      <td>Bob</td>\n",
       "      <td>27</td>\n",
       "      <td>90000.0</td>\n",
       "    </tr>\n",
       "  </tbody>\n",
       "</table>\n",
       "</div>"
      ],
      "text/plain": [
       "   id   name  age    salary\n",
       "0   1  Alice   25  100000.0\n",
       "1   2    Bob   27   90000.0"
      ]
     },
     "execution_count": 18,
     "metadata": {},
     "output_type": "execute_result"
    }
   ],
   "source": [
    "class CsvParser:\n",
    "    def __init__(self, path):\n",
    "        import pandas as pd \n",
    "        self.data = pd.read_csv(path)\n",
    "\n",
    "    def calculate_mean(self, col_name):\n",
    "        return self.data[col_name].mean()\n",
    "\n",
    "    def impute_col(self, col_name):\n",
    "        mean_val = self.calculate_mean(col_name)\n",
    "        self.data[col_name] = self.data[col_name].fillna(mean_val).astype(int)\n",
    "\n",
    "    def drop_missing_rows(self, col_name):\n",
    "        self.data.dropna(subset = [col_name], inplace = True)\n",
    "\n",
    "    def save_json(self, out_put):\n",
    "        import json \n",
    "\n",
    "        with open(out_put, mode = 'w') as f:\n",
    "            json.dump(self.data.to_dict(orient='records'), f, indent = 4)\n",
    "\n",
    "    def print_data(self):\n",
    "        return self.data\n",
    "\n",
    "csv_obj = CsvParser('csv_sample.csv')\n",
    "csv_obj.impute_col('age')\n",
    "csv_obj.print_data()\n",
    "csv_obj.drop_missing_rows('salary')\n",
    "csv_obj.print_data()\n",
    "csv_obj.save_json('output.json')\n",
    "csv_obj.print_data()\n"
   ]
  },
  {
   "cell_type": "code",
   "execution_count": null,
   "id": "83743cc1",
   "metadata": {},
   "outputs": [],
   "source": []
  },
  {
   "cell_type": "code",
   "execution_count": null,
   "id": "134f6776",
   "metadata": {},
   "outputs": [],
   "source": []
  }
 ],
 "metadata": {
  "kernelspec": {
   "display_name": "clean_code",
   "language": "python",
   "name": "python3"
  },
  "language_info": {
   "codemirror_mode": {
    "name": "ipython",
    "version": 3
   },
   "file_extension": ".py",
   "mimetype": "text/x-python",
   "name": "python",
   "nbconvert_exporter": "python",
   "pygments_lexer": "ipython3",
   "version": "3.10.18"
  }
 },
 "nbformat": 4,
 "nbformat_minor": 5
}
