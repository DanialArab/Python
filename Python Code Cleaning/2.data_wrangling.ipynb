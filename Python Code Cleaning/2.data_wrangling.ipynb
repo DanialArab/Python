{
 "cells": [
  {
   "cell_type": "markdown",
   "id": "3f33cffc",
   "metadata": {},
   "source": [
    "Data wrangling\n",
    "\n",
    "Given a CSV:\n",
    "\n",
    "id,name,age,salary\n",
    "1,Alice,25,100000\n",
    "2,Bob,,90000\n",
    "3,Charlie,30,NaN\n",
    "\n",
    "\n",
    "👉 Task:\n",
    "\n",
    "Read file with pandas.\n",
    "\n",
    "Fill missing ages with mean age.\n",
    "\n",
    "Drop rows with missing salary.\n",
    "\n",
    "Output JSON with schema:\n",
    "\n",
    "[{\"id\":1, \"name\":\"Alice\", \"age\":25, \"salary\":100000}, ...]"
   ]
  },
  {
   "cell_type": "code",
   "execution_count": 2,
   "id": "39a8cdb8",
   "metadata": {},
   "outputs": [],
   "source": [
    "from pydantic import BaseModel "
   ]
  },
  {
   "cell_type": "code",
   "execution_count": null,
   "id": "ec036d99",
   "metadata": {},
   "outputs": [],
   "source": []
  }
 ],
 "metadata": {
  "kernelspec": {
   "display_name": "clean_code",
   "language": "python",
   "name": "python3"
  },
  "language_info": {
   "codemirror_mode": {
    "name": "ipython",
    "version": 3
   },
   "file_extension": ".py",
   "mimetype": "text/x-python",
   "name": "python",
   "nbconvert_exporter": "python",
   "pygments_lexer": "ipython3",
   "version": "3.10.18"
  }
 },
 "nbformat": 4,
 "nbformat_minor": 5
}
