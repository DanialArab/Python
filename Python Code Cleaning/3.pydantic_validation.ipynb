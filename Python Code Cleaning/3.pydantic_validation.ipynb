{
 "cells": [
  {
   "cell_type": "markdown",
   "id": "b36e2598",
   "metadata": {},
   "source": [
    "You’re given JSON:\n",
    "\n",
    "[\n",
    "  {\"user_id\": \"123\", \"email\": \"TEST@MAIL.com\", \"signup_date\": \"2022/01/02\"},\n",
    "  {\"user_id\": \"abc\", \"email\": \"invalid.com\", \"signup_date\": \"2021-05-03\"}\n",
    "]\n",
    "\n",
    "\n",
    "👉 Build a Pydantic model that:\n",
    "\n",
    "Casts user_id to int (or errors).\n",
    "\n",
    "Validates email format.\n",
    "\n",
    "Converts signup_date to datetime.\n",
    "\n",
    "Skips invalid records gracefully."
   ]
  },
  {
   "cell_type": "markdown",
   "id": "8dacb27f",
   "metadata": {},
   "source": []
  }
 ],
 "metadata": {
  "language_info": {
   "name": "python"
  }
 },
 "nbformat": 4,
 "nbformat_minor": 5
}
