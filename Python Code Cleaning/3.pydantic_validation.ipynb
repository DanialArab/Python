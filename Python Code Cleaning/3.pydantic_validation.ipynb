{
 "cells": [
  {
   "cell_type": "markdown",
   "id": "b36e2598",
   "metadata": {},
   "source": [
    "You’re given JSON:\n",
    "\n",
    "[\n",
    "  {\"user_id\": \"123\", \"email\": \"TEST@MAIL.com\", \"signup_date\": \"2022/01/02\"},\n",
    "  {\"user_id\": \"abc\", \"email\": \"invalid.com\", \"signup_date\": \"2021-05-03\"}\n",
    "]\n",
    "\n",
    "\n",
    "👉 Build a Pydantic model that:\n",
    "\n",
    "- Casts user_id to int (or errors).\n",
    "- Validates email format.\n",
    "- Converts signup_date to datetime.\n",
    "- Skips invalid records gracefully."
   ]
  },
  {
   "cell_type": "code",
   "execution_count": 1,
   "id": "ffbae259",
   "metadata": {},
   "outputs": [
    {
     "name": "stdout",
     "output_type": "stream",
     "text": [
      "{'user_id': 123, 'signup_date': datetime.datetime(2022, 1, 2, 0, 0), 'email': 'TEST@mail.com'}\n"
     ]
    }
   ],
   "source": [
    "from pydantic import BaseModel, field_validator, EmailStr\n",
    "from datetime import datetime\n",
    "import json\n",
    "import logging\n",
    "\n",
    "logging.basicConfig(\n",
    "    level=logging.WARNING,\n",
    "    format=\"%(levelname)s: %(message)s\",\n",
    "    filename=\"records.log\",\n",
    "    filemode=\"w\"\n",
    ")\n",
    "\n",
    "class Record(BaseModel):\n",
    "    user_id: int\n",
    "    signup_date: datetime\n",
    "    email: EmailStr\n",
    "\n",
    "    @field_validator('signup_date', mode='before')\n",
    "    def parse_date(cls, v):\n",
    "        # Try multiple formats\n",
    "        for fmt in (\"%Y-%m-%d\", \"%Y/%m/%d\"):\n",
    "            try:\n",
    "                return datetime.strptime(v, fmt)\n",
    "            except ValueError:\n",
    "                continue\n",
    "        raise ValueError(f\"Invalid date format: {v}\")\n",
    "\n",
    "\n",
    "class DataParser:\n",
    "    def __init__(self, str_data: str):\n",
    "        self.raw_data = json.loads(str_data)\n",
    "        self.records: list[Record] = []\n",
    "\n",
    "    def parse(self):\n",
    "        for entry in self.raw_data:\n",
    "            try:\n",
    "                self.records.append(Record(**entry))\n",
    "            except Exception as e:\n",
    "                logging.warning(f\"Skipping bad record {entry}: {e}\")\n",
    "\n",
    "    def print_data(self):\n",
    "        for r in self.records:\n",
    "            print(r.model_dump())   # model_dump replaces dict() in Pydantic v2\n",
    "\n",
    "\n",
    "# Example JSON input\n",
    "data = '''\n",
    "[\n",
    "  {\"user_id\": \"123\", \"email\": \"TEST@MAIL.com\", \"signup_date\": \"2022/01/02\"},\n",
    "  {\"user_id\": \"abc\", \"email\": \"invalid.com\", \"signup_date\": \"2021-05-03\"}\n",
    "]\n",
    "'''\n",
    "\n",
    "parser = DataParser(data)\n",
    "parser.parse()\n",
    "parser.print_data()\n"
   ]
  },
  {
   "cell_type": "code",
   "execution_count": null,
   "id": "47bc7f2d",
   "metadata": {},
   "outputs": [],
   "source": []
  }
 ],
 "metadata": {
  "kernelspec": {
   "display_name": "clean_code",
   "language": "python",
   "name": "python3"
  },
  "language_info": {
   "codemirror_mode": {
    "name": "ipython",
    "version": 3
   },
   "file_extension": ".py",
   "mimetype": "text/x-python",
   "name": "python",
   "nbconvert_exporter": "python",
   "pygments_lexer": "ipython3",
   "version": "3.10.18"
  }
 },
 "nbformat": 4,
 "nbformat_minor": 5
}
